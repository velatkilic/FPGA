{
 "cells": [
  {
   "cell_type": "code",
   "execution_count": 3,
   "id": "ecf358ca",
   "metadata": {},
   "outputs": [
    {
     "name": "stdout",
     "output_type": "stream",
     "text": [
      "/home/xilinx/jupyter_notebooks\n"
     ]
    }
   ],
   "source": [
    "from pynq import Overlay\n",
    "import os\n",
    "\n",
    "cwd = os.getcwd()\n",
    "print(cwd)"
   ]
  },
  {
   "cell_type": "code",
   "execution_count": 4,
   "id": "78c64500",
   "metadata": {},
   "outputs": [
    {
     "name": "stdout",
     "output_type": "stream",
     "text": [
      "/home/xilinx/jupyter_notebooks/single_pulse_gen/single_pulse_gen.bit\n"
     ]
    }
   ],
   "source": [
    "#load overlay\n",
    "bit_file = os.path.join(cwd, \"single_pulse_gen\", \"single_pulse_gen.bit\")\n",
    "print(bit_file)\n"
   ]
  },
  {
   "cell_type": "code",
   "execution_count": 6,
   "id": "ed94272d",
   "metadata": {},
   "outputs": [],
   "source": [
    "overlay = Overlay(bit_file)"
   ]
  },
  {
   "cell_type": "code",
   "execution_count": 20,
   "id": "84b5e8f3",
   "metadata": {},
   "outputs": [],
   "source": [
    "# 0 -> rst\n",
    "# 1 -> start\n",
    "# 2 -> delay\n",
    "# 3 -> duration\n",
    "# offset is 4 bytes -> 32 bits\n",
    "pulse_gen_mmio = overlay.single_pulse_gen_0.mmio"
   ]
  },
  {
   "cell_type": "code",
   "execution_count": 19,
   "id": "ea19a0e3",
   "metadata": {},
   "outputs": [],
   "source": [
    "?overlay.single_pulse_gen_0.mmio  "
   ]
  },
  {
   "cell_type": "code",
   "execution_count": 23,
   "id": "8c92eaa5",
   "metadata": {},
   "outputs": [
    {
     "name": "stdout",
     "output_type": "stream",
     "text": [
      "125000000\n"
     ]
    }
   ],
   "source": [
    "# set delay counter\n",
    "pulse_gen_mmio.write(offset=2*4, data=125_000_000)\n",
    "result = pulse_gen_mmio.read(offset=2*4)\n",
    "print(result)"
   ]
  },
  {
   "cell_type": "code",
   "execution_count": 24,
   "id": "9c313588",
   "metadata": {},
   "outputs": [
    {
     "name": "stdout",
     "output_type": "stream",
     "text": [
      "125000000\n"
     ]
    }
   ],
   "source": [
    "# set duration counter\n",
    "pulse_gen_mmio.write(offset=3*4, data=125_000_000)\n",
    "result = pulse_gen_mmio.read(offset=2*4)\n",
    "print(result)"
   ]
  },
  {
   "cell_type": "code",
   "execution_count": 26,
   "id": "b32e15a8",
   "metadata": {},
   "outputs": [],
   "source": [
    "# pulse!\n",
    "pulse_gen_mmio.write(offset=1*4, data=1)\n",
    "pulse_gen_mmio.write(offset=1*4, data=0)"
   ]
  },
  {
   "cell_type": "code",
   "execution_count": null,
   "id": "e8c028e9",
   "metadata": {},
   "outputs": [],
   "source": []
  }
 ],
 "metadata": {
  "kernelspec": {
   "display_name": "Python 3 (ipykernel)",
   "language": "python",
   "name": "python3"
  },
  "language_info": {
   "codemirror_mode": {
    "name": "ipython",
    "version": 3
   },
   "file_extension": ".py",
   "mimetype": "text/x-python",
   "name": "python",
   "nbconvert_exporter": "python",
   "pygments_lexer": "ipython3",
   "version": "3.10.4"
  }
 },
 "nbformat": 4,
 "nbformat_minor": 5
}
